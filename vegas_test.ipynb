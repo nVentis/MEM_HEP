{
 "cells": [
  {
   "cell_type": "code",
   "execution_count": 2,
   "metadata": {},
   "outputs": [],
   "source": [
    "import vegas\n",
    "import math"
   ]
  },
  {
   "cell_type": "code",
   "execution_count": 3,
   "metadata": {},
   "outputs": [
    {
     "name": "stdout",
     "output_type": "stream",
     "text": [
      "itn   integral        wgt average     chi2/dof        Q\n",
      "-------------------------------------------------------\n",
      "  1   0.162(99)       0.162(99)           0.00     1.00\n",
      "  2   0.93(13)        0.445(79)          22.13     0.00\n",
      "  3   0.83(11)        0.576(64)          15.10     0.00\n",
      "  4   1.019(68)       0.783(47)          17.54     0.00\n",
      "  5   0.947(41)       0.875(31)          14.89     0.00\n",
      "  6   0.979(26)       0.936(20)          13.23     0.00\n",
      "  7   0.968(20)       0.952(14)          11.24     0.00\n",
      "  8   0.998(17)       0.971(11)          10.28     0.00\n",
      "  9   1.015(14)       0.9876(84)          9.78     0.00\n",
      " 10   0.987(13)       0.9873(71)          8.69     0.00\n",
      "\n",
      "result = 0.9873(71)    Q = 0.00\n"
     ]
    }
   ],
   "source": [
    "def f(x):\n",
    "    dx2 = 0\n",
    "    for d in range(4):\n",
    "        dx2 += (x[d] - 0.5) ** 2\n",
    "    return math.exp(-dx2 * 100.) * 1013.2118364296088\n",
    "\n",
    "integ = vegas.Integrator([[-1, 1], [0, 1], [0, 1], [0, 1]])\n",
    "\n",
    "result = integ(f, nitn=10, neval=1000)\n",
    "print(result.summary())\n",
    "print('result = %s    Q = %.2f' % (result, result.Q))"
   ]
  },
  {
   "cell_type": "code",
   "execution_count": null,
   "metadata": {},
   "outputs": [],
   "source": []
  }
 ],
 "metadata": {
  "kernelspec": {
   "display_name": "py311",
   "language": "python",
   "name": "python3"
  },
  "language_info": {
   "codemirror_mode": {
    "name": "ipython",
    "version": 3
   },
   "file_extension": ".py",
   "mimetype": "text/x-python",
   "name": "python",
   "nbconvert_exporter": "python",
   "pygments_lexer": "ipython3",
   "version": "3.11.4"
  },
  "orig_nbformat": 4
 },
 "nbformat": 4,
 "nbformat_minor": 2
}
