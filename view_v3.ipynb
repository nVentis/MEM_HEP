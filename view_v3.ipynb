{
 "cells": [
  {
   "cell_type": "code",
   "execution_count": 1,
   "metadata": {},
   "outputs": [],
   "source": [
    "import numpy as np\n",
    "import matplotlib.pyplot as plt\n",
    "import matplotlib.colors as colors\n",
    "import matplotlib.cm as cm\n",
    "import seaborn as sns\n",
    "import uproot as ur\n",
    "import pandas as pd\n",
    "\n",
    "from os import listdir, mkdir, getcwd\n",
    "from os.path import isfile, join, basename, isdir\n",
    "\n",
    "from sys import platform\n",
    "#if platform == \"linux\" or platform == \"linux2\":\n",
    "#    import ROOT\n",
    "#    %jsroot off\n",
    "\n",
    "#from convert_directory import convert_directory"
   ]
  },
  {
   "cell_type": "code",
   "execution_count": 4,
   "metadata": {},
   "outputs": [],
   "source": [
    "source_path = getcwd() # \"/afs/desy.de/user/b/bliewert/public/MarlinWorkdirs/ZHH/\"\n",
    "output_path = join(source_path, \".npy\")"
   ]
  },
  {
   "cell_type": "code",
   "execution_count": 10,
   "metadata": {},
   "outputs": [],
   "source": [
    "type_map = {\n",
    "    \"int32_t\": \"i4\"\n",
    "}\n",
    "\n",
    "def convert_type(type_name: str):\n",
    "    if type_name in type_map:\n",
    "        return type_map[type_name]\n",
    "    else:\n",
    "        return type_name\n",
    "\n",
    "def convert_file(source_path, in_file_location, output_path = \"\"):\n",
    "    with ur.open(source_path) as file:\n",
    "        # Find data in file\n",
    "        data = file[in_file_location]\n",
    "\n",
    "        # Get correct column names and types for conversion\n",
    "        dtype_arr = []\n",
    "        dtype_names = data.typenames()\n",
    "\n",
    "        for field_name in dtype_names:\n",
    "            dtype_arr.append((field_name, convert_type(dtype_names[field_name])))\n",
    "\n",
    "        # Convert data to (column-wise) arrays using numpy\n",
    "        out = np.zeros(data.num_entries, dtype=dtype_arr)\n",
    "        keys = data.keys()\n",
    "        for i in range(0, len(keys)):\n",
    "            key = keys[i]\n",
    "            out[key] = data[key].array()\n",
    "\n",
    "        if output_path != \"\":\n",
    "            np.save(output_path, out, allow_pickle=True)\n",
    "\n",
    "    return out\n",
    "\n",
    "# See https://uproot.readthedocs.io/en/latest/uproot.behaviors.TBranch.iterate.html\n",
    "def convert_directory(source_path: str, in_file_location: str, output_dir_abs: str = \"\"):\n",
    "    dir_contents = listdir(source_path)\n",
    "    root_files = filter(lambda filename: filename.endswith(\".root\"), dir_contents)\n",
    "\n",
    "    output_dir = source_path\n",
    "    if output_dir_abs != \"\":\n",
    "        output_dir = output_dir_abs\n",
    "\n",
    "    if not isdir(output_dir_abs):\n",
    "        mkdir(output_dir_abs)\n",
    "\n",
    "    for filename in root_files:\n",
    "        bname = basename(filename)\n",
    "        output_path = join(output_dir, bname + \".npy\")\n",
    "        if isfile(output_path):\n",
    "            print(\"Skipping file <\" + bname + \"> (exists)\")\n",
    "        else:\n",
    "            convert_file(join(source_path, filename), in_file_location, output_path)\n",
    "\n",
    "\n",
    "convert_directory(source_path, \"dataTree\", output_path)"
   ]
  },
  {
   "cell_type": "code",
   "execution_count": 11,
   "metadata": {},
   "outputs": [],
   "source": [
    "# Splits a dataframe with separate columns for reco and true properties to one with the properties and a different label \"type\" with values \"true\" and \"reco\" \n",
    "def split_event_tree(df,\n",
    "                     properties=[\"sigma\", \"nll\"],\n",
    "                     props_shared=[\"run\", \"event\", \"true_is_zhh\", \"true_is_zzh\", \"true_h1_decay1_pdg\"],\n",
    "                     type_names=[\"true_zhh\", \"true_zzh\"], column_concat: str =\"_\"):\n",
    "    #type_dict = {}\n",
    "    #for property in properties:\n",
    "    #    type_dict[property] = pd.Series(dtype=df.dtypes[type_names[0] + column_concat + property])\n",
    "\n",
    "    # Rename\n",
    "    rename_dict = {}\n",
    "    for property in properties:\n",
    "        rename_dict[type_names[0] + column_concat + property] = property\n",
    "\n",
    "    df = df.rename(columns=rename_dict)\n",
    "    df[\"type\"] = type_names[0]\n",
    "\n",
    "    # Slice and re-add\n",
    "    for type in type_names:\n",
    "        if type == type_names[0]:\n",
    "            continue\n",
    "\n",
    "        #column_names = [word.replace(type + column_concat, \"\") for word in [\"asd_123\", \"asd_345\"]]\n",
    "        props_type_specific = list(map(lambda cn: type+column_concat+cn, properties))\n",
    "        props_slice = props_shared + props_type_specific\n",
    "        sliced = df.loc[:, props_slice]\n",
    "\n",
    "        df.drop(columns=props_type_specific, inplace=True)\n",
    "\n",
    "        rename_dict = {}\n",
    "        for property in properties:\n",
    "            rename_dict[type + column_concat + property] = property\n",
    "\n",
    "        sliced.rename(columns=rename_dict, inplace=True)\n",
    "        sliced[\"type\"] = type\n",
    "\n",
    "        df = pd.concat([df, sliced])\n",
    "\n",
    "    df.reset_index(drop=True, inplace=True)\n",
    "\n",
    "    return df"
   ]
  },
  {
   "cell_type": "code",
   "execution_count": 12,
   "metadata": {},
   "outputs": [
    {
     "data": {
      "text/plain": [
       "['c:\\\\DevRepositories\\\\MEM_HEP\\\\.npy\\\\compare_out_2.root.npy']"
      ]
     },
     "execution_count": 12,
     "metadata": {},
     "output_type": "execute_result"
    }
   ],
   "source": [
    "b = list(map(lambda e: join(output_path, e), listdir(output_path)))\n",
    "b"
   ]
  },
  {
   "cell_type": "code",
   "execution_count": 13,
   "metadata": {},
   "outputs": [
    {
     "data": {
      "text/plain": [
       "Index(['run', 'event', 'true_is_zhh', 'true_is_zzh', 'true_h1_decay1_pdg',\n",
       "       'true_zhh_sigma', 'true_zhh_sigmall', 'true_zhh_sigmalr',\n",
       "       'true_zhh_sigmarl', 'true_zhh_sigmarr', 'true_zhh_mz', 'true_zhh_mhh',\n",
       "       'true_zhh_mzhh', 'true_zhh_phi', 'true_zhh_phif', 'true_zhh_phih',\n",
       "       'true_zhh_costheta', 'true_zhh_costhetaf', 'true_zhh_costhetah',\n",
       "       'true_zhh_l1_e', 'true_zhh_l1_px', 'true_zhh_l1_py', 'true_zhh_l1_pz',\n",
       "       'true_zhh_l2_e', 'true_zhh_l2_px', 'true_zhh_l2_py', 'true_zhh_l2_pz',\n",
       "       'true_zhh_h1_e', 'true_zhh_h1_px', 'true_zhh_h1_py', 'true_zhh_h1_pz',\n",
       "       'true_zhh_h2_e', 'true_zhh_h2_px', 'true_zhh_h2_py', 'true_zhh_h2_pz',\n",
       "       'true_zzh_sigma', 'true_zzh_sigmalll', 'true_zzh_sigmallr',\n",
       "       'true_zzh_sigmalrl', 'true_zzh_sigmalrr', 'true_zzh_sigmarrr',\n",
       "       'true_zzh_sigmarrl', 'true_zzh_sigmarlr', 'true_zzh_sigmarll',\n",
       "       'true_zzh_mz1', 'true_zzh_mz2', 'true_zzh_mzz', 'true_zzh_mzzh',\n",
       "       'true_zzh_phi', 'true_zzh_phiz', 'true_zzh_phiz1f', 'true_zzh_phiz2f',\n",
       "       'true_zzh_costheta', 'true_zzh_costhetaz', 'true_zzh_costhetaz1f',\n",
       "       'true_zzh_costhetaz2f', 'true_zzh_l1_e', 'true_zzh_l1_px',\n",
       "       'true_zzh_l1_py', 'true_zzh_l1_pz', 'true_zzh_l2_e', 'true_zzh_l2_px',\n",
       "       'true_zzh_l2_py', 'true_zzh_l2_pz', 'true_zzh_z2f1_e',\n",
       "       'true_zzh_z2f1_px', 'true_zzh_z2f1_py', 'true_zzh_z2f1_pz',\n",
       "       'true_zzh_z2f2_e', 'true_zzh_z2f2_px', 'true_zzh_z2f2_py',\n",
       "       'true_zzh_z2f2_pz', 'true_zzh_h_e', 'true_zzh_h_px', 'true_zzh_h_py',\n",
       "       'true_zzh_h_pz'],\n",
       "      dtype='object')"
      ]
     },
     "execution_count": 13,
     "metadata": {},
     "output_type": "execute_result"
    }
   ],
   "source": [
    "data = pd.DataFrame(np.load(b[0], allow_pickle=True))\n",
    "data.columns"
   ]
  },
  {
   "cell_type": "code",
   "execution_count": 14,
   "metadata": {},
   "outputs": [
    {
     "data": {
      "text/plain": [
       "run                     int32\n",
       "event                   int32\n",
       "true_is_zhh             int32\n",
       "true_is_zzh             int32\n",
       "true_h1_decay1_pdg      int32\n",
       "                       ...   \n",
       "true_zzh_z2f2_pz      float64\n",
       "true_zzh_h_e          float64\n",
       "true_zzh_h_px         float64\n",
       "true_zzh_h_py         float64\n",
       "true_zzh_h_pz         float64\n",
       "Length: 76, dtype: object"
      ]
     },
     "execution_count": 14,
     "metadata": {},
     "output_type": "execute_result"
    }
   ],
   "source": [
    "data.dtypes"
   ]
  },
  {
   "cell_type": "code",
   "execution_count": 15,
   "metadata": {},
   "outputs": [
    {
     "data": {
      "text/plain": [
       "<AxesSubplot: xlabel='true_h1_decay1_pdg', ylabel='count'>"
      ]
     },
     "execution_count": 15,
     "metadata": {},
     "output_type": "execute_result"
    },
    {
     "data": {
      "image/png": "[encoded data removed]",
      "text/plain": [
       "<Figure size 640x480 with 1 Axes>"
      ]
     },
     "metadata": {},
     "output_type": "display_data"
    }
   ],
   "source": [
    "sns.countplot(data, x=\"true_h1_decay1_pdg\")"
   ]
  },
  {
   "attachments": {},
   "cell_type": "markdown",
   "metadata": {},
   "source": [
    "Important: Unaccounted/\"thrown away\" events: H->gg,gammagamma,ZZ,W+W-"
   ]
  },
  {
   "cell_type": "code",
   "execution_count": 16,
   "metadata": {},
   "outputs": [
    {
     "data": {
      "text/plain": [
       "(19900, 76)"
      ]
     },
     "execution_count": 16,
     "metadata": {},
     "output_type": "execute_result"
    }
   ],
   "source": [
    "# Show amount of thrown-away entries\n",
    "data[(data[\"true_zhh_sigma\"] <= 0) | (data[\"true_zzh_sigma\"] <= 0)].shape"
   ]
  },
  {
   "cell_type": "code",
   "execution_count": 17,
   "metadata": {},
   "outputs": [
    {
     "data": {
      "text/plain": [
       "(0, 76)"
      ]
     },
     "execution_count": 17,
     "metadata": {},
     "output_type": "execute_result"
    }
   ],
   "source": [
    "# Applying cut\n",
    "data = data[(data[\"true_zhh_sigma\"] > 0) & (data[\"true_zzh_sigma\"] > 0)]\n",
    "data.shape"
   ]
  },
  {
   "cell_type": "code",
   "execution_count": 44,
   "metadata": {},
   "outputs": [
    {
     "name": "stderr",
     "output_type": "stream",
     "text": [
      "/tmp/ipykernel_36439/4056746590.py:5: SettingWithCopyWarning: \n",
      "A value is trying to be set on a copy of a slice from a DataFrame.\n",
      "Try using .loc[row_indexer,col_indexer] = value instead\n",
      "\n",
      "See the caveats in the documentation: https://pandas.pydata.org/pandas-docs/stable/user_guide/indexing.html#returning-a-view-versus-a-copy\n",
      "  data[\"true_zhh_nll\"] = true_zhh_nll\n",
      "/tmp/ipykernel_36439/4056746590.py:6: SettingWithCopyWarning: \n",
      "A value is trying to be set on a copy of a slice from a DataFrame.\n",
      "Try using .loc[row_indexer,col_indexer] = value instead\n",
      "\n",
      "See the caveats in the documentation: https://pandas.pydata.org/pandas-docs/stable/user_guide/indexing.html#returning-a-view-versus-a-copy\n",
      "  data[\"true_zzh_nll\"] = true_zzh_nll\n",
      "/tmp/ipykernel_36439/4056746590.py:7: SettingWithCopyWarning: \n",
      "A value is trying to be set on a copy of a slice from a DataFrame.\n",
      "Try using .loc[row_indexer,col_indexer] = value instead\n",
      "\n",
      "See the caveats in the documentation: https://pandas.pydata.org/pandas-docs/stable/user_guide/indexing.html#returning-a-view-versus-a-copy\n",
      "  data[\"true_llr\"] = true_llr\n"
     ]
    }
   ],
   "source": [
    "true_zhh_nll = np.log(data[\"true_zhh_sigma\"])\n",
    "true_zzh_nll = np.log(data[\"true_zzh_sigma\"])\n",
    "true_llr = true_zzh_nll/true_zhh_nll\n",
    "\n",
    "data[\"true_zhh_nll\"] = true_zhh_nll\n",
    "data[\"true_zzh_nll\"] = true_zzh_nll\n",
    "data[\"true_llr\"] = true_llr"
   ]
  },
  {
   "cell_type": "code",
   "execution_count": null,
   "metadata": {},
   "outputs": [],
   "source": []
  },
  {
   "cell_type": "code",
   "execution_count": 46,
   "metadata": {},
   "outputs": [],
   "source": [
    "data_split = split_event_tree(data)"
   ]
  },
  {
   "cell_type": "code",
   "execution_count": 47,
   "metadata": {},
   "outputs": [
    {
     "data": {
      "text/plain": [
       "<Axes: xlabel='sigma', ylabel='Count'>"
      ]
     },
     "execution_count": 47,
     "metadata": {},
     "output_type": "execute_result"
    },
    {
     "data": {
      "image/png": "[encoded data removed]",
      "text/plain": [
       "<Figure size 640x480 with 1 Axes>"
      ]
     },
     "metadata": {},
     "output_type": "display_data"
    }
   ],
   "source": [
    "sns.histplot(data_split, x=\"sigma\", hue=\"type\")"
   ]
  },
  {
   "cell_type": "code",
   "execution_count": 49,
   "metadata": {},
   "outputs": [
    {
     "data": {
      "text/plain": [
       "<Axes: xlabel='nll', ylabel='Count'>"
      ]
     },
     "execution_count": 49,
     "metadata": {},
     "output_type": "execute_result"
    },
    {
     "data": {
      "image/png": "[encoded data removed]",
      "text/plain": [
       "<Figure size 640x480 with 1 Axes>"
      ]
     },
     "metadata": {},
     "output_type": "display_data"
    }
   ],
   "source": [
    "sns.histplot(data_split, x=\"nll\", hue=\"type\", bins=64)"
   ]
  },
  {
   "cell_type": "code",
   "execution_count": 9,
   "metadata": {},
   "outputs": [
    {
     "data": {
      "text/plain": [
       "(19900, 65)"
      ]
     },
     "execution_count": 9,
     "metadata": {},
     "output_type": "execute_result"
    }
   ],
   "source": [
    "data.shape"
   ]
  },
  {
   "cell_type": "code",
   "execution_count": 11,
   "metadata": {},
   "outputs": [
    {
     "data": {
      "text/html": [
       "<div>\n",
       "<style scoped>\n",
       "    .dataframe tbody tr th:only-of-type {\n",
       "        vertical-align: middle;\n",
       "    }\n",
       "\n",
       "    .dataframe tbody tr th {\n",
       "        vertical-align: top;\n",
       "    }\n",
       "\n",
       "    .dataframe thead th {\n",
       "        text-align: right;\n",
       "    }\n",
       "</style>\n",
       "<table border=\"1\" class=\"dataframe\">\n",
       "  <thead>\n",
       "    <tr style=\"text-align: right;\">\n",
       "      <th></th>\n",
       "      <th>run</th>\n",
       "      <th>event</th>\n",
       "      <th>true_is_zhh</th>\n",
       "      <th>true_is_zzh</th>\n",
       "      <th>sigma</th>\n",
       "      <th>sigmall</th>\n",
       "      <th>sigmalr</th>\n",
       "      <th>sigmarl</th>\n",
       "      <th>sigmarr</th>\n",
       "      <th>true_zhh_mz</th>\n",
       "      <th>...</th>\n",
       "      <th>true_zzh_l2_pz</th>\n",
       "      <th>true_zzh_h1_e</th>\n",
       "      <th>true_zzh_h1_px</th>\n",
       "      <th>true_zzh_h1_py</th>\n",
       "      <th>true_zzh_h1_pz</th>\n",
       "      <th>true_zzh_h2_e</th>\n",
       "      <th>true_zzh_h2_px</th>\n",
       "      <th>true_zzh_h2_py</th>\n",
       "      <th>true_zzh_h2_pz</th>\n",
       "      <th>type</th>\n",
       "    </tr>\n",
       "  </thead>\n",
       "  <tbody>\n",
       "    <tr>\n",
       "      <th>0</th>\n",
       "      <td>403001</td>\n",
       "      <td>1</td>\n",
       "      <td>1</td>\n",
       "      <td>0</td>\n",
       "      <td>0.0</td>\n",
       "      <td>0.0</td>\n",
       "      <td>0.0</td>\n",
       "      <td>0.0</td>\n",
       "      <td>0.0</td>\n",
       "      <td>90.566605</td>\n",
       "      <td>...</td>\n",
       "      <td>0.0</td>\n",
       "      <td>0.0</td>\n",
       "      <td>0.0</td>\n",
       "      <td>0.0</td>\n",
       "      <td>0.0</td>\n",
       "      <td>0.0</td>\n",
       "      <td>0.0</td>\n",
       "      <td>0.0</td>\n",
       "      <td>0.0</td>\n",
       "      <td>true_zhh</td>\n",
       "    </tr>\n",
       "    <tr>\n",
       "      <th>1</th>\n",
       "      <td>403001</td>\n",
       "      <td>2</td>\n",
       "      <td>1</td>\n",
       "      <td>0</td>\n",
       "      <td>0.0</td>\n",
       "      <td>0.0</td>\n",
       "      <td>0.0</td>\n",
       "      <td>0.0</td>\n",
       "      <td>0.0</td>\n",
       "      <td>91.628563</td>\n",
       "      <td>...</td>\n",
       "      <td>0.0</td>\n",
       "      <td>0.0</td>\n",
       "      <td>0.0</td>\n",
       "      <td>0.0</td>\n",
       "      <td>0.0</td>\n",
       "      <td>0.0</td>\n",
       "      <td>0.0</td>\n",
       "      <td>0.0</td>\n",
       "      <td>0.0</td>\n",
       "      <td>true_zhh</td>\n",
       "    </tr>\n",
       "    <tr>\n",
       "      <th>2</th>\n",
       "      <td>403001</td>\n",
       "      <td>3</td>\n",
       "      <td>1</td>\n",
       "      <td>0</td>\n",
       "      <td>0.0</td>\n",
       "      <td>0.0</td>\n",
       "      <td>0.0</td>\n",
       "      <td>0.0</td>\n",
       "      <td>0.0</td>\n",
       "      <td>90.209305</td>\n",
       "      <td>...</td>\n",
       "      <td>0.0</td>\n",
       "      <td>0.0</td>\n",
       "      <td>0.0</td>\n",
       "      <td>0.0</td>\n",
       "      <td>0.0</td>\n",
       "      <td>0.0</td>\n",
       "      <td>0.0</td>\n",
       "      <td>0.0</td>\n",
       "      <td>0.0</td>\n",
       "      <td>true_zhh</td>\n",
       "    </tr>\n",
       "    <tr>\n",
       "      <th>3</th>\n",
       "      <td>403001</td>\n",
       "      <td>4</td>\n",
       "      <td>1</td>\n",
       "      <td>0</td>\n",
       "      <td>0.0</td>\n",
       "      <td>0.0</td>\n",
       "      <td>0.0</td>\n",
       "      <td>0.0</td>\n",
       "      <td>0.0</td>\n",
       "      <td>72.617577</td>\n",
       "      <td>...</td>\n",
       "      <td>0.0</td>\n",
       "      <td>0.0</td>\n",
       "      <td>0.0</td>\n",
       "      <td>0.0</td>\n",
       "      <td>0.0</td>\n",
       "      <td>0.0</td>\n",
       "      <td>0.0</td>\n",
       "      <td>0.0</td>\n",
       "      <td>0.0</td>\n",
       "      <td>true_zhh</td>\n",
       "    </tr>\n",
       "    <tr>\n",
       "      <th>4</th>\n",
       "      <td>403001</td>\n",
       "      <td>5</td>\n",
       "      <td>1</td>\n",
       "      <td>0</td>\n",
       "      <td>0.0</td>\n",
       "      <td>0.0</td>\n",
       "      <td>0.0</td>\n",
       "      <td>0.0</td>\n",
       "      <td>0.0</td>\n",
       "      <td>81.175934</td>\n",
       "      <td>...</td>\n",
       "      <td>0.0</td>\n",
       "      <td>0.0</td>\n",
       "      <td>0.0</td>\n",
       "      <td>0.0</td>\n",
       "      <td>0.0</td>\n",
       "      <td>0.0</td>\n",
       "      <td>0.0</td>\n",
       "      <td>0.0</td>\n",
       "      <td>0.0</td>\n",
       "      <td>true_zhh</td>\n",
       "    </tr>\n",
       "    <tr>\n",
       "      <th>...</th>\n",
       "      <td>...</td>\n",
       "      <td>...</td>\n",
       "      <td>...</td>\n",
       "      <td>...</td>\n",
       "      <td>...</td>\n",
       "      <td>...</td>\n",
       "      <td>...</td>\n",
       "      <td>...</td>\n",
       "      <td>...</td>\n",
       "      <td>...</td>\n",
       "      <td>...</td>\n",
       "      <td>...</td>\n",
       "      <td>...</td>\n",
       "      <td>...</td>\n",
       "      <td>...</td>\n",
       "      <td>...</td>\n",
       "      <td>...</td>\n",
       "      <td>...</td>\n",
       "      <td>...</td>\n",
       "      <td>...</td>\n",
       "      <td>...</td>\n",
       "    </tr>\n",
       "    <tr>\n",
       "      <th>39795</th>\n",
       "      <td>403001</td>\n",
       "      <td>19896</td>\n",
       "      <td>1</td>\n",
       "      <td>0</td>\n",
       "      <td>0.0</td>\n",
       "      <td>0.0</td>\n",
       "      <td>0.0</td>\n",
       "      <td>0.0</td>\n",
       "      <td>0.0</td>\n",
       "      <td>NaN</td>\n",
       "      <td>...</td>\n",
       "      <td>NaN</td>\n",
       "      <td>NaN</td>\n",
       "      <td>NaN</td>\n",
       "      <td>NaN</td>\n",
       "      <td>NaN</td>\n",
       "      <td>NaN</td>\n",
       "      <td>NaN</td>\n",
       "      <td>NaN</td>\n",
       "      <td>NaN</td>\n",
       "      <td>true_zzh</td>\n",
       "    </tr>\n",
       "    <tr>\n",
       "      <th>39796</th>\n",
       "      <td>403001</td>\n",
       "      <td>19897</td>\n",
       "      <td>1</td>\n",
       "      <td>0</td>\n",
       "      <td>0.0</td>\n",
       "      <td>0.0</td>\n",
       "      <td>0.0</td>\n",
       "      <td>0.0</td>\n",
       "      <td>0.0</td>\n",
       "      <td>NaN</td>\n",
       "      <td>...</td>\n",
       "      <td>NaN</td>\n",
       "      <td>NaN</td>\n",
       "      <td>NaN</td>\n",
       "      <td>NaN</td>\n",
       "      <td>NaN</td>\n",
       "      <td>NaN</td>\n",
       "      <td>NaN</td>\n",
       "      <td>NaN</td>\n",
       "      <td>NaN</td>\n",
       "      <td>true_zzh</td>\n",
       "    </tr>\n",
       "    <tr>\n",
       "      <th>39797</th>\n",
       "      <td>403001</td>\n",
       "      <td>19898</td>\n",
       "      <td>1</td>\n",
       "      <td>0</td>\n",
       "      <td>0.0</td>\n",
       "      <td>0.0</td>\n",
       "      <td>0.0</td>\n",
       "      <td>0.0</td>\n",
       "      <td>0.0</td>\n",
       "      <td>NaN</td>\n",
       "      <td>...</td>\n",
       "      <td>NaN</td>\n",
       "      <td>NaN</td>\n",
       "      <td>NaN</td>\n",
       "      <td>NaN</td>\n",
       "      <td>NaN</td>\n",
       "      <td>NaN</td>\n",
       "      <td>NaN</td>\n",
       "      <td>NaN</td>\n",
       "      <td>NaN</td>\n",
       "      <td>true_zzh</td>\n",
       "    </tr>\n",
       "    <tr>\n",
       "      <th>39798</th>\n",
       "      <td>403001</td>\n",
       "      <td>19899</td>\n",
       "      <td>1</td>\n",
       "      <td>0</td>\n",
       "      <td>0.0</td>\n",
       "      <td>0.0</td>\n",
       "      <td>0.0</td>\n",
       "      <td>0.0</td>\n",
       "      <td>0.0</td>\n",
       "      <td>NaN</td>\n",
       "      <td>...</td>\n",
       "      <td>NaN</td>\n",
       "      <td>NaN</td>\n",
       "      <td>NaN</td>\n",
       "      <td>NaN</td>\n",
       "      <td>NaN</td>\n",
       "      <td>NaN</td>\n",
       "      <td>NaN</td>\n",
       "      <td>NaN</td>\n",
       "      <td>NaN</td>\n",
       "      <td>true_zzh</td>\n",
       "    </tr>\n",
       "    <tr>\n",
       "      <th>39799</th>\n",
       "      <td>403001</td>\n",
       "      <td>19900</td>\n",
       "      <td>1</td>\n",
       "      <td>0</td>\n",
       "      <td>0.0</td>\n",
       "      <td>0.0</td>\n",
       "      <td>0.0</td>\n",
       "      <td>0.0</td>\n",
       "      <td>0.0</td>\n",
       "      <td>NaN</td>\n",
       "      <td>...</td>\n",
       "      <td>NaN</td>\n",
       "      <td>NaN</td>\n",
       "      <td>NaN</td>\n",
       "      <td>NaN</td>\n",
       "      <td>NaN</td>\n",
       "      <td>NaN</td>\n",
       "      <td>NaN</td>\n",
       "      <td>NaN</td>\n",
       "      <td>NaN</td>\n",
       "      <td>true_zzh</td>\n",
       "    </tr>\n",
       "  </tbody>\n",
       "</table>\n",
       "<p>39800 rows × 61 columns</p>\n",
       "</div>"
      ],
      "text/plain": [
       "          run  event  true_is_zhh  true_is_zzh  sigma  sigmall  sigmalr  \\\n",
       "0      403001      1            1            0    0.0      0.0      0.0   \n",
       "1      403001      2            1            0    0.0      0.0      0.0   \n",
       "2      403001      3            1            0    0.0      0.0      0.0   \n",
       "3      403001      4            1            0    0.0      0.0      0.0   \n",
       "4      403001      5            1            0    0.0      0.0      0.0   \n",
       "...       ...    ...          ...          ...    ...      ...      ...   \n",
       "39795  403001  19896            1            0    0.0      0.0      0.0   \n",
       "39796  403001  19897            1            0    0.0      0.0      0.0   \n",
       "39797  403001  19898            1            0    0.0      0.0      0.0   \n",
       "39798  403001  19899            1            0    0.0      0.0      0.0   \n",
       "39799  403001  19900            1            0    0.0      0.0      0.0   \n",
       "\n",
       "       sigmarl  sigmarr  true_zhh_mz  ...  true_zzh_l2_pz  true_zzh_h1_e  \\\n",
       "0          0.0      0.0    90.566605  ...             0.0            0.0   \n",
       "1          0.0      0.0    91.628563  ...             0.0            0.0   \n",
       "2          0.0      0.0    90.209305  ...             0.0            0.0   \n",
       "3          0.0      0.0    72.617577  ...             0.0            0.0   \n",
       "4          0.0      0.0    81.175934  ...             0.0            0.0   \n",
       "...        ...      ...          ...  ...             ...            ...   \n",
       "39795      0.0      0.0          NaN  ...             NaN            NaN   \n",
       "39796      0.0      0.0          NaN  ...             NaN            NaN   \n",
       "39797      0.0      0.0          NaN  ...             NaN            NaN   \n",
       "39798      0.0      0.0          NaN  ...             NaN            NaN   \n",
       "39799      0.0      0.0          NaN  ...             NaN            NaN   \n",
       "\n",
       "       true_zzh_h1_px  true_zzh_h1_py  true_zzh_h1_pz  true_zzh_h2_e  \\\n",
       "0                 0.0             0.0             0.0            0.0   \n",
       "1                 0.0             0.0             0.0            0.0   \n",
       "2                 0.0             0.0             0.0            0.0   \n",
       "3                 0.0             0.0             0.0            0.0   \n",
       "4                 0.0             0.0             0.0            0.0   \n",
       "...               ...             ...             ...            ...   \n",
       "39795             NaN             NaN             NaN            NaN   \n",
       "39796             NaN             NaN             NaN            NaN   \n",
       "39797             NaN             NaN             NaN            NaN   \n",
       "39798             NaN             NaN             NaN            NaN   \n",
       "39799             NaN             NaN             NaN            NaN   \n",
       "\n",
       "       true_zzh_h2_px  true_zzh_h2_py  true_zzh_h2_pz      type  \n",
       "0                 0.0             0.0             0.0  true_zhh  \n",
       "1                 0.0             0.0             0.0  true_zhh  \n",
       "2                 0.0             0.0             0.0  true_zhh  \n",
       "3                 0.0             0.0             0.0  true_zhh  \n",
       "4                 0.0             0.0             0.0  true_zhh  \n",
       "...               ...             ...             ...       ...  \n",
       "39795             NaN             NaN             NaN  true_zzh  \n",
       "39796             NaN             NaN             NaN  true_zzh  \n",
       "39797             NaN             NaN             NaN  true_zzh  \n",
       "39798             NaN             NaN             NaN  true_zzh  \n",
       "39799             NaN             NaN             NaN  true_zzh  \n",
       "\n",
       "[39800 rows x 61 columns]"
      ]
     },
     "execution_count": 11,
     "metadata": {},
     "output_type": "execute_result"
    }
   ],
   "source": [
    "data_split = split_event_tree(data)\n",
    "data_split"
   ]
  },
  {
   "cell_type": "code",
   "execution_count": 16,
   "metadata": {},
   "outputs": [
    {
     "data": {
      "text/plain": [
       "<Axes: xlabel='true_zzh_sigma', ylabel='Count'>"
      ]
     },
     "execution_count": 16,
     "metadata": {},
     "output_type": "execute_result"
    },
    {
     "data": {
      "image/png": "[encoded data removed]",
      "text/plain": [
       "<Figure size 640x480 with 1 Axes>"
      ]
     },
     "metadata": {},
     "output_type": "display_data"
    }
   ],
   "source": [
    "sns.histplot(data[\"true_zzh_sigma\"], bins=32)"
   ]
  },
  {
   "cell_type": "code",
   "execution_count": 12,
   "metadata": {},
   "outputs": [],
   "source": [
    "def plot_pplot(title:str, file_prefix:str, data_split, vars=[\"sigma\", \"sigmalr\", \"mz\", \"phif\"]):\n",
    "    f = sns.pairplot(data_split, hue=\"type\", plot_kws=dict( alpha=0.3 ), corner=True)\n",
    "    f.fig.suptitle(title, y=1.01)\n",
    "\n",
    "    #plt.savefig(file_prefix + \"_pairplot.pdf\")\n",
    "\n",
    "def plot_hists(title:str, file_prefix:str, data):\n",
    "    fig, axs = plt.subplots(ncols=2, nrows=2, figsize=(12., 8.)) # layout=\"constrained\"\n",
    "    fig.suptitle(title)\n",
    "\n",
    "    cmap = sns.color_palette(\"Blues\", as_cmap=True)\n",
    "\n",
    "    # Seaborn: unweighted (linear) histograms\n",
    "    f1 = sns.histplot(data=data, x=\"true_phif\", y=\"true_mz\", bins=(24,64), cbar=True, vmin=0, vmax=250, ax=axs[0][0])\n",
    "    f1.set(xlim=(-3.142,3.142), ylim=(80,102), title=\"Unweighted\")\n",
    "\n",
    "    f2 = sns.histplot(data=data, x=\"reco_phif\", y=\"reco_mz\", bins=(24,64), cbar=True, vmin=0, vmax=250, ax=axs[1][0])\n",
    "    f2.set(xlim=(-3.142,3.142), ylim=(80,102), title=\"Unweighted\")\n",
    "\n",
    "    # Matplotlib: weighted (log) histograms\n",
    "    if False:\n",
    "        x = \"true_phif\"\n",
    "        y = \"true_mz\"\n",
    "        counts, xedges, yedges, im = axs[0][1].hist2d(data=data, x=x, y=y, cmap=cmap, bins=(24,16), range=[[-3.142,3.142], [80, 102]], norm=\"log\", weights=1/data[\"true_sigmalr\"])\n",
    "        fig.colorbar(im, ax=axs[0][1], location='right')\n",
    "\n",
    "        x = \"reco_phif\"\n",
    "        y = \"reco_mz\"\n",
    "        counts, xedges, yedges, im = axs[1][1].hist2d(data=data, x=x, y=y, cmap=cmap, bins=(24,16), range=[[-3.142,3.142], [80, 102]], norm=\"log\", weights=1/data[\"reco_sigmalr\"])\n",
    "        fig.colorbar(im, ax=axs[1][1], location='right')\n",
    "\n",
    "    f3 = sns.histplot(data=data, x=\"true_phif\", y=\"true_mz\", bins=(24,64), cbar=True, vmin=0, ax=axs[0][1], weights=(1/data[\"true_sigmalr\"]) )\n",
    "    f3.set(xlim=(-3.142,3.142), ylim=(80,102), title=\"Weighted\")\n",
    "\n",
    "    f4 = sns.histplot(data=data, x=\"reco_phif\", y=\"reco_mz\", bins=(24,64), cbar=True, vmin=0, ax=axs[1][1], weights=(1/data[\"reco_sigmalr\"]) )\n",
    "    f4.set(xlim=(-3.142,3.142), ylim=(80,102), title=\"Weighted\")\n",
    "\n",
    "    fig.tight_layout()\n",
    "    #plt.savefig(file_prefix + \"_unwt_vs_wt.pdf\")"
   ]
  },
  {
   "cell_type": "code",
   "execution_count": 13,
   "metadata": {},
   "outputs": [],
   "source": [
    "def plot_legoplot(x, y, xlim, ylim, xbins, ybins):\n",
    "    fig = plt.figure() #create a canvas, tell matplotlib it's 3d\n",
    "    ax = fig.add_subplot(111, projection='3d')\n",
    "\n",
    "    hist, xedges, yedges = np.histogram2d(x, y, bins=(xbins, ybins), range = [xlim, ylim])\n",
    "    xpos, ypos = np.meshgrid(xedges[:-1]+xedges[1:], yedges[:-1]+yedges[1:]) -(xedges[1]-xedges[0])\n",
    "\n",
    "    xpos = xpos.flatten()*1./2\n",
    "    ypos = ypos.flatten()*1./2\n",
    "    zpos = np.zeros_like (xpos)\n",
    "\n",
    "    dx = xedges [1] - xedges [0]\n",
    "    dy = yedges [1] - yedges [0]\n",
    "    dz = hist.flatten()\n",
    "\n",
    "    cmap = cm.get_cmap('tab20') # Get desired colormap - you can change this!\n",
    "    max_height = np.max(dz)   # get range of colorbars so we can normalize\n",
    "    min_height = np.min(dz)\n",
    "    # scale each z to [0,1], and get their rgb values\n",
    "    rgba = [cmap((k-min_height)/max_height) for k in dz] \n",
    "\n",
    "    ax.bar3d(xpos, ypos, zpos, dx, dy, dz, color=rgba, zsort='average')\n",
    "    #plt.title(\"X vs. Y Amplitudes for ____ Data\")\n",
    "    plt.xlabel(\"X\")\n",
    "    plt.ylabel(\"Y\")\n",
    "    plt.show()\n",
    "\n",
    "    return ax\n"
   ]
  },
  {
   "cell_type": "code",
   "execution_count": 16,
   "metadata": {},
   "outputs": [
    {
     "data": {
      "text/plain": [
       "55"
      ]
     },
     "execution_count": 16,
     "metadata": {},
     "output_type": "execute_result"
    }
   ],
   "source": [
    "ROOT.kRainBow"
   ]
  },
  {
   "cell_type": "code",
   "execution_count": 87,
   "metadata": {},
   "outputs": [],
   "source": [
    "ROOT.gStyle.SetPalette(ROOT.kViridis)\n",
    "\n",
    "# See https://root.cern.ch/doc/master/classTColor.html\n",
    "ROOT.gStyle.SetHistLineColor( 1 )\n",
    "\n",
    "# https://root.cern.ch/doc/master/classTPaveStats.html\n",
    "ROOT.gStyle.SetOptStat( int(\"1110\", 10) )"
   ]
  },
  {
   "cell_type": "code",
   "execution_count": 131,
   "metadata": {},
   "outputs": [],
   "source": [
    "# Styling as per https://ipnp.cz/scheirich/?page_id=277\n",
    "# AtlasStyle: https://github.com/nickcedwards/python-utils/blob/master/AtlasStyle.py\n",
    "\n",
    "def plot_legoplot_root(x, y, xlim, ylim, xbins = 40, ybins = 40, title=\"\", name=\"\", labels = (\"m_{Z}\", \"#phi_{f}\"), units = (\"GeV\", \"\"), colorbar=False, weights = None):\n",
    "    canv = ROOT.TCanvas(\"c_name\", \"c_title\", 800, 600)\n",
    "    hlego = ROOT.TH2I(name, title, xbins, xlim[0], xlim[1], ybins, ylim[0], ylim[1])\n",
    "\n",
    "    xaxis = hlego.GetXaxis()\n",
    "    yaxis = hlego.GetYaxis()\n",
    "\n",
    "    xaxis.SetTitle(labels[0] + (\" [\" + units[0] + \"]\" if units[0] != \"\" else \"\"))\n",
    "    yaxis.SetTitle(labels[1] + (\" [\" + units[1] + \"]\" if units[1] != \"\" else \"\"))\n",
    "\n",
    "    xaxis.SetTitleOffset(1.7)\n",
    "    yaxis.SetTitleOffset(1.7)\n",
    "\n",
    "    xaxis.CenterTitle(1)\n",
    "    yaxis.CenterTitle(1)\n",
    "\n",
    "    #fig.FillN(len(x), x, y, 1)\n",
    "    for i in range(0, len(x)):\n",
    "        hlego.Fill(x[i], y[i])\n",
    "\n",
    "    hlego.Draw(\"LEGO2\" + (\"Z\" if colorbar else \"\"))\n",
    "\n",
    "    ROOT.gPad.Update()\n",
    "\n",
    "    # Adjust statsbox; possible only after drawing\n",
    "    # See https://root.cern.ch/doc/master/classTPaveStats.html\n",
    "    statsbox = hlego.FindObject(\"stats\")\n",
    "    statsbox.SetX1NDC(0.65)\n",
    "    statsbox.SetX2NDC(0.9)\n",
    "    statsbox.SetY1NDC(0.7)\n",
    "    statsbox.SetY2NDC(0.9)\n",
    "\n",
    "    # Adjust colorbar\n",
    "    if colorbar:\n",
    "        cbar = hlego.FindObject(\"palette\")\n",
    "\n",
    "    #canv.Print(join(source_path, \"hist.png\"))\n",
    "    canv.Draw()\n",
    "\n",
    "    return [canv, hlego]\n"
   ]
  },
  {
   "cell_type": "code",
   "execution_count": 132,
   "metadata": {},
   "outputs": [
    {
     "data": {
      "text/plain": [
       "[<cppyy.gbl.TCanvas object at 0x5633f67e7f10>,\n",
       " <cppyy.gbl.TH2I object at 0x5633f67e8a70>]"
      ]
     },
     "execution_count": 132,
     "metadata": {},
     "output_type": "execute_result"
    },
    {
     "name": "stderr",
     "output_type": "stream",
     "text": [
      "Warning in <TCanvas::Constructor>: Deleting canvas with same name: c_name\n",
      "Warning in <TROOT::Append>: Replacing existing TH1: Plot (Potential memory leak).\n"
     ]
    },
    {
     "data": {
      "image/png": "[encoded data removed]",
      "text/plain": [
       "<IPython.core.display.Image object>"
      ]
     },
     "metadata": {},
     "output_type": "display_data"
    }
   ],
   "source": [
    "plot_legoplot_root(x=data[\"reco_mz\"], y=data[\"reco_phif\"], xlim=(80, 102), ylim=(-3.142, +3.142), title=\"Reco unweighted\", name=\"Plot\")"
   ]
  }
 ],
 "metadata": {
  "kernelspec": {
   "display_name": "base",
   "language": "python",
   "name": "python3"
  },
  "language_info": {
   "codemirror_mode": {
    "name": "ipython",
    "version": 3
   },
   "file_extension": ".py",
   "mimetype": "text/x-python",
   "name": "python",
   "nbconvert_exporter": "python",
   "pygments_lexer": "ipython3",
   "version": "3.10.8"
  },
  "orig_nbformat": 4
 },
 "nbformat": 4,
 "nbformat_minor": 2
}
