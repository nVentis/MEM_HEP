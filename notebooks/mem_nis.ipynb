{
 "cells": [
  {
   "cell_type": "code",
   "execution_count": 1,
   "metadata": {},
   "outputs": [],
   "source": [
    "import torch\n",
    "import numpy as np\n",
    "import seaborn as sns\n",
    "import matplotlib.pyplot as plt\n",
    "import pandas as pd"
   ]
  },
  {
   "cell_type": "code",
   "execution_count": 33,
   "metadata": {},
   "outputs": [
    {
     "data": {
      "text/plain": [
       "array([2, 1, 2, 1, 2, 2, 2, 2, 2, 2])"
      ]
     },
     "execution_count": 33,
     "metadata": {},
     "output_type": "execute_result"
    }
   ],
   "source": [
    "np.random.choice([1,2], size=10, p=[0.1, 0.9])"
   ]
  },
  {
   "cell_type": "code",
   "execution_count": 3,
   "metadata": {},
   "outputs": [
    {
     "data": {
      "text/plain": [
       "array([0.13739213, 9.7812359 ])"
      ]
     },
     "execution_count": 3,
     "metadata": {},
     "output_type": "execute_result"
    }
   ],
   "source": [
    "np.random.uniform(low=[0, 9], high=[1, 10])"
   ]
  },
  {
   "cell_type": "code",
   "execution_count": 23,
   "metadata": {},
   "outputs": [
    {
     "data": {
      "text/plain": [
       "1.553318131297575"
      ]
     },
     "execution_count": 23,
     "metadata": {},
     "output_type": "execute_result"
    }
   ],
   "source": [
    "np.random.uniform(low=1, high=2)"
   ]
  },
  {
   "cell_type": "code",
   "execution_count": 59,
   "metadata": {},
   "outputs": [],
   "source": [
    "def integrand(args):\n",
    "    #return -(args[0]-3)**2+5\n",
    "    return 1/(x-3)**2"
   ]
  },
  {
   "cell_type": "code",
   "execution_count": 42,
   "metadata": {},
   "outputs": [],
   "source": [
    "from typing import Callable, Iterable, List\n",
    "\n",
    "def dist_conv(integrand:Callable, dims:int, boundaries:List[List[float]], bins_per_dim:int=10):\n",
    "    # Prepare\n",
    "    #bin_weights = []\n",
    "    bin_bounds = []\n",
    "\n",
    "    for i in range(dims):\n",
    "        boundary_arr = []\n",
    "        c_cur = boundaries[i][0]\n",
    "        c_step = (boundaries[i][1] - boundaries[i][0])/bins_per_dim\n",
    "        \n",
    "        for j in range(bins_per_dim):\n",
    "            boundary_arr.append([c_cur, c_cur + c_step])\n",
    "            c_cur += c_step\n",
    "        \n",
    "        #bin_weights.append(np.ones(bins_per_dim, dtype=float) * 1/bins_per_dim)\n",
    "        #bin_weights.append(1/bins_per_dim)\n",
    "        bin_bounds.append(boundary_arr)\n",
    "    \n",
    "    # n_hyper_cubes = bins_per_dims**dims\n",
    "    \n",
    "    bin_indices = np.arange(bins_per_dim)\n",
    "    bin_bounds = np.array(bin_bounds)\n",
    "    \n",
    "    # Generator\n",
    "    def sample(n_samples:int=1):\n",
    "        samples = []\n",
    "        \n",
    "        for i in range(dims):\n",
    "            bin_idx = np.random.choice(bin_indices, size=n_samples)\n",
    "            bins = bin_bounds[i][bin_idx].T\n",
    "            \n",
    "            samples_per_dim = np.random.uniform(low=bins[0], high=bins[1])\n",
    "            samples.append(samples_per_dim)\n",
    "            \n",
    "\n",
    "        return samples\n",
    "    \n",
    "    def learn():\n",
    "        bins\n",
    "    \n",
    "    return sample, learn"
   ]
  },
  {
   "cell_type": "code",
   "execution_count": 46,
   "metadata": {},
   "outputs": [],
   "source": [
    "dims = 1\n",
    "boundaries = [[0., 6.]]\n",
    "a = dist_conv(integrand, dims, boundaries)"
   ]
  },
  {
   "cell_type": "code",
   "execution_count": 57,
   "metadata": {},
   "outputs": [],
   "source": [
    "vals = a(1000000)"
   ]
  },
  {
   "cell_type": "code",
   "execution_count": 58,
   "metadata": {},
   "outputs": [
    {
     "data": {
      "text/plain": [
       "(array([0.16695021, 0.16717855, 0.16663688, 0.16646521, 0.16699522,\n",
       "        0.16635355, 0.16614188, 0.16694188, 0.16664021, 0.16636521]),\n",
       " array([3.73195400e-06, 6.00002959e-01, 1.20000219e+00, 1.80000141e+00,\n",
       "        2.40000064e+00, 2.99999987e+00, 3.59999910e+00, 4.19999832e+00,\n",
       "        4.79999755e+00, 5.39999678e+00, 5.99999601e+00]),\n",
       " <BarContainer object of 10 artists>)"
      ]
     },
     "execution_count": 58,
     "metadata": {},
     "output_type": "execute_result"
    },
    {
     "data": {
      "image/png": "[encoded data removed]",
      "text/plain": [
       "<Figure size 640x480 with 1 Axes>"
      ]
     },
     "metadata": {},
     "output_type": "display_data"
    }
   ],
   "source": [
    "plt.hist(vals, density=True)"
   ]
  },
  {
   "cell_type": "code",
   "execution_count": 19,
   "metadata": {},
   "outputs": [],
   "source": []
  },
  {
   "cell_type": "code",
   "execution_count": 20,
   "metadata": {},
   "outputs": [
    {
     "data": {
      "text/plain": [
       "1"
      ]
     },
     "execution_count": 20,
     "metadata": {},
     "output_type": "execute_result"
    }
   ],
   "source": [
    "next(a)"
   ]
  },
  {
   "cell_type": "code",
   "execution_count": null,
   "metadata": {},
   "outputs": [],
   "source": []
  }
 ],
 "metadata": {
  "kernelspec": {
   "display_name": "graphjet",
   "language": "python",
   "name": "graphjet"
  },
  "language_info": {
   "codemirror_mode": {
    "name": "ipython",
    "version": 3
   },
   "file_extension": ".py",
   "mimetype": "text/x-python",
   "name": "python",
   "nbconvert_exporter": "python",
   "pygments_lexer": "ipython3",
   "version": "3.11.4"
  }
 },
 "nbformat": 4,
 "nbformat_minor": 2
}
