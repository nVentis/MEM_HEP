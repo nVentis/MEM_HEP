{
 "cells": [
  {
   "cell_type": "code",
   "execution_count": 1,
   "metadata": {},
   "outputs": [],
   "source": [
    "import torch\n",
    "import numpy as np\n",
    "import seaborn as sns\n",
    "import matplotlib.pyplot as plt\n",
    "import pandas as pd"
   ]
  },
  {
   "cell_type": "code",
   "execution_count": 2,
   "metadata": {},
   "outputs": [
    {
     "data": {
      "text/plain": [
       "array([2, 2, 2, 2, 2, 2, 2, 2, 2, 2])"
      ]
     },
     "execution_count": 2,
     "metadata": {},
     "output_type": "execute_result"
    }
   ],
   "source": [
    "np.random.choice([1,2], size=10, p=[0.1, 0.9])"
   ]
  },
  {
   "cell_type": "code",
   "execution_count": 3,
   "metadata": {},
   "outputs": [
    {
     "data": {
      "text/plain": [
       "array([0.88453221, 9.27038666])"
      ]
     },
     "execution_count": 3,
     "metadata": {},
     "output_type": "execute_result"
    }
   ],
   "source": [
    "np.random.uniform(low=[0, 9], high=[1, 10])"
   ]
  },
  {
   "cell_type": "code",
   "execution_count": 4,
   "metadata": {},
   "outputs": [
    {
     "data": {
      "text/plain": [
       "1.515715479595011"
      ]
     },
     "execution_count": 4,
     "metadata": {},
     "output_type": "execute_result"
    }
   ],
   "source": [
    "np.random.uniform(low=1, high=2)"
   ]
  },
  {
   "cell_type": "code",
   "execution_count": 5,
   "metadata": {},
   "outputs": [],
   "source": [
    "def integrand(args):\n",
    "    #return -(args[0]-3)**2+5\n",
    "    #return 1/(args[0]-3)**2\n",
    "    return 10*np.exp(-(1/0.01)*(args[0]-3)**2)"
   ]
  },
  {
   "cell_type": "code",
   "execution_count": 65,
   "metadata": {},
   "outputs": [],
   "source": [
    "from typing import Callable, Iterable, List\n",
    "\n",
    "def dist_conv(integrand:Callable, dims:int, boundaries:List[List[float]], bins_per_dim:int=10):\n",
    "    # Prepare\n",
    "    #bin_weights = []\n",
    "    bin_bounds = []\n",
    "\n",
    "    for i in range(dims):\n",
    "        boundary_arr = []\n",
    "        c_cur = boundaries[i][0]\n",
    "        c_step = (boundaries[i][1] - boundaries[i][0])/bins_per_dim\n",
    "        \n",
    "        for j in range(bins_per_dim):\n",
    "            boundary_arr.append([c_cur, c_cur + c_step])\n",
    "            c_cur += c_step\n",
    "        \n",
    "        #bin_weights.append(np.ones(bins_per_dim, dtype=float) * 1/bins_per_dim)\n",
    "        #bin_weights.append(1/bins_per_dim)\n",
    "        bin_bounds.append(boundary_arr)\n",
    "    \n",
    "    # n_hyper_cubes = bins_per_dims**dims\n",
    "    \n",
    "    bin_indices = np.arange(bins_per_dim)\n",
    "    bin_bounds = np.array(bin_bounds)\n",
    "    \n",
    "    # Generator\n",
    "    def sample(n_samples:int=1):\n",
    "        samples = []\n",
    "        \n",
    "        for i in range(dims):\n",
    "            bin_idx = np.random.choice(bin_indices, size=n_samples)\n",
    "            bins = bin_bounds[i][bin_idx].T\n",
    "            \n",
    "            samples_per_dim = np.random.uniform(low=bins[0], high=bins[1])\n",
    "            samples.append(samples_per_dim)\n",
    "\n",
    "        return np.array(samples)\n",
    "    \n",
    "    def learn(n_samples:int=1):\n",
    "        samples = sample(n_samples)\n",
    "        results = integrand(samples)\n",
    "        \n",
    "        # asd\n",
    "        for j in range(dims):\n",
    "            # surface per dim and bin\n",
    "            k = 0 #bin_lower = 0\n",
    "\n",
    "            sort_mask = np.argsort(samples[j])\n",
    "            samples_per_dim = samples[j][sort_mask]\n",
    "            results_per_dim = results[sort_mask]\n",
    "            bounds_per_dim = boundaries[j]\n",
    "            \n",
    "            surf = np.trapz(results_per_dim, x=samples_per_dim)\n",
    "            surf_per_bin = surf/bins_per_dim\n",
    "            \n",
    "            bin_vals = []\n",
    "            \n",
    "            for i in range(bins_per_dim):\n",
    "                running_sum = 0\n",
    "                k0 = k\n",
    "                while running_sum < surf_per_bin and k < n_samples - 1:\n",
    "                    running_sum += results_per_dim[k]*(\n",
    "                        (samples_per_dim[k+1] if k > 0 else bounds_per_dim[1]) - \n",
    "                        (samples_per_dim[k] if k <= n_samples-1 else bounds_per_dim[0]) )\n",
    "                    k += 1\n",
    "                \n",
    "                bin_vals.append([\n",
    "                    boundaries[j][0] if i == 0 else samples_per_dim[k0],\n",
    "                    boundaries[j][1] if i == bins_per_dim-1 else samples_per_dim[k]])\n",
    "                \n",
    "                print(f\"{k0}-{k} : {bin_vals[-1][0]}-{bin_vals[-1][1]}\")\n",
    "                \n",
    "            bin_bounds[j] = bin_vals\n",
    "    \n",
    "    return sample, learn"
   ]
  },
  {
   "cell_type": "code",
   "execution_count": 91,
   "metadata": {},
   "outputs": [],
   "source": [
    "dims = 1\n",
    "bins_per_dim = 30\n",
    "boundaries = [[0., 6.]]\n",
    "sample, learn = dist_conv(integrand, dims, boundaries, bins_per_dim=bins_per_dim)"
   ]
  },
  {
   "cell_type": "code",
   "execution_count": 92,
   "metadata": {},
   "outputs": [
    {
     "data": {
      "text/plain": [
       "(array([0.16502796, 0.16602813, 0.17753008, 0.16402779, 0.17452957,\n",
       "        0.14702491, 0.16452787, 0.16452787, 0.16302762, 0.16202745,\n",
       "        0.17152906, 0.16102728, 0.17452957, 0.17953042, 0.17052889,\n",
       "        0.1635277 , 0.17552974, 0.15552635, 0.16252754, 0.17652991,\n",
       "        0.16102728, 0.15102559, 0.16302762, 0.15802677, 0.15852686,\n",
       "        0.16602813, 0.17652991, 0.17652991, 0.17252923, 0.17853025]),\n",
       " array([6.46329995e-04, 2.00612446e-01, 4.00578562e-01, 6.00544678e-01,\n",
       "        8.00510794e-01, 1.00047691e+00, 1.20044303e+00, 1.40040914e+00,\n",
       "        1.60037526e+00, 1.80034137e+00, 2.00030749e+00, 2.20027361e+00,\n",
       "        2.40023972e+00, 2.60020584e+00, 2.80017195e+00, 3.00013807e+00,\n",
       "        3.20010419e+00, 3.40007030e+00, 3.60003642e+00, 3.80000253e+00,\n",
       "        3.99996865e+00, 4.19993477e+00, 4.39990088e+00, 4.59986700e+00,\n",
       "        4.79983312e+00, 4.99979923e+00, 5.19976535e+00, 5.39973146e+00,\n",
       "        5.59969758e+00, 5.79966370e+00, 5.99962981e+00]),\n",
       " <BarContainer object of 30 artists>)"
      ]
     },
     "execution_count": 92,
     "metadata": {},
     "output_type": "execute_result"
    },
    {
     "data": {
      "image/png": "[encoded data removed]",
      "text/plain": [
       "<Figure size 640x480 with 1 Axes>"
      ]
     },
     "metadata": {},
     "output_type": "display_data"
    }
   ],
   "source": [
    "n_samples = 10000\n",
    "samples = sample(n_samples)\n",
    "plt.hist(samples[0], density=True, bins=bins_per_dim)"
   ]
  },
  {
   "cell_type": "code",
   "execution_count": 101,
   "metadata": {},
   "outputs": [
    {
     "name": "stdout",
     "output_type": "stream",
     "text": [
      "0-323 : 0.0-2.8821032372487054\n",
      "323-650 : 2.8821032372487054-2.9012570712936485\n",
      "650-1004 : 2.9012570712936485-2.9150624211282143\n",
      "1004-1348 : 2.9150624211282143-2.9262194728819932\n",
      "1348-1655 : 2.9262194728819932-2.9357520975246247\n",
      "1655-2001 : 2.9357520975246247-2.9443089739647617\n",
      "2001-2328 : 2.9443089739647617-2.952093418235897\n",
      "2328-2685 : 2.952093418235897-2.9593060140622454\n",
      "2685-3020 : 2.9593060140622454-2.96612494494195\n",
      "3020-3336 : 2.96612494494195-2.972640990629263\n",
      "3336-3652 : 2.972640990629263-2.978936307717594\n",
      "3652-4008 : 2.978936307717594-2.9852128583010313\n",
      "4008-4319 : 2.9852128583010313-2.991234632147263\n",
      "4319-4634 : 2.991234632147263-2.9971951882684906\n",
      "4634-4947 : 2.9971951882684906-3.003117967532618\n",
      "4947-5277 : 3.003117967532618-3.0091377550675635\n",
      "5277-5620 : 3.0091377550675635-3.0151648822467774\n",
      "5620-6018 : 3.0151648822467774-3.021312153884331\n",
      "6018-6382 : 3.021312153884331-3.0276125482158704\n",
      "6382-6672 : 3.0276125482158704-3.034137778895887\n",
      "6672-7015 : 3.034137778895887-3.0409823168542296\n",
      "7015-7341 : 3.0409823168542296-3.0482311052681355\n",
      "7341-7672 : 3.0482311052681355-3.056001612888002\n",
      "7672-8040 : 3.056001612888002-3.064519315780258\n",
      "8040-8347 : 3.064519315780258-3.074219298469136\n",
      "8347-8672 : 3.074219298469136-3.0854501001387904\n",
      "8672-8984 : 3.0854501001387904-3.099326837784138\n",
      "8984-9341 : 3.099326837784138-3.118675990946254\n",
      "9341-9589 : 3.118675990946254-3.156880494497924\n",
      "9589-9999 : 3.156880494497924-6.0\n"
     ]
    }
   ],
   "source": [
    "learn(n_samples)"
   ]
  },
  {
   "cell_type": "code",
   "execution_count": 102,
   "metadata": {},
   "outputs": [
    {
     "data": {
      "text/plain": [
       "(array([0.01655898, 0.01605719, 0.00953396, 0.01003575, 0.01103932,\n",
       "        0.00953396, 0.01204289, 0.0080286 , 0.00702502, 0.01304647,\n",
       "        0.01354826, 0.01103932, 0.01254468, 0.01003575, 2.37796995,\n",
       "        2.31926084, 0.01204289, 0.01103932, 0.01204289, 0.01304647,\n",
       "        0.01555541, 0.01204289, 0.01003575, 0.0080286 , 0.01204289,\n",
       "        0.01053753, 0.01204289, 0.00903217, 0.01053753, 0.01254468]),\n",
       " array([0.01454322, 0.21383085, 0.41311848, 0.61240611, 0.81169374,\n",
       "        1.01098138, 1.21026901, 1.40955664, 1.60884427, 1.80813191,\n",
       "        2.00741954, 2.20670717, 2.4059948 , 2.60528243, 2.80457007,\n",
       "        3.0038577 , 3.20314533, 3.40243296, 3.60172059, 3.80100823,\n",
       "        4.00029586, 4.19958349, 4.39887112, 4.59815875, 4.79744639,\n",
       "        4.99673402, 5.19602165, 5.39530928, 5.59459691, 5.79388455,\n",
       "        5.99317218]),\n",
       " <BarContainer object of 30 artists>)"
      ]
     },
     "execution_count": 102,
     "metadata": {},
     "output_type": "execute_result"
    },
    {
     "data": {
      "image/png": "[encoded data removed]",
      "text/plain": [
       "<Figure size 640x480 with 1 Axes>"
      ]
     },
     "metadata": {},
     "output_type": "display_data"
    }
   ],
   "source": [
    "n_samples = 10000\n",
    "samples = sample(n_samples)\n",
    "plt.hist(samples[0], density=True, bins=bins_per_dim)"
   ]
  },
  {
   "cell_type": "code",
   "execution_count": 103,
   "metadata": {},
   "outputs": [
    {
     "data": {
      "text/plain": [
       "<Axes: >"
      ]
     },
     "execution_count": 103,
     "metadata": {},
     "output_type": "execute_result"
    },
    {
     "data": {
      "image/png": "[encoded data removed]",
      "text/plain": [
       "<Figure size 640x480 with 1 Axes>"
      ]
     },
     "metadata": {},
     "output_type": "display_data"
    }
   ],
   "source": [
    "sns.scatterplot(x=samples[0], y=integrand(samples))"
   ]
  },
  {
   "cell_type": "code",
   "execution_count": 38,
   "metadata": {},
   "outputs": [
    {
     "data": {
      "text/plain": [
       "(array([0.94490876, 0.00830008, 0.00650006, 0.00580005, 0.00490005,\n",
       "        0.00400004, 0.00510005, 0.00410004, 0.00430004, 0.01210011]),\n",
       " array([0.        , 0.99999073, 1.99998145, 2.99997218, 3.99996291,\n",
       "        4.99995363, 5.99994436, 6.99993509, 7.99992581, 8.99991654,\n",
       "        9.99990727]),\n",
       " <BarContainer object of 10 artists>)"
      ]
     },
     "execution_count": 38,
     "metadata": {},
     "output_type": "execute_result"
    },
    {
     "data": {
      "image/png": "[encoded data removed]",
      "text/plain": [
       "<Figure size 640x480 with 1 Axes>"
      ]
     },
     "metadata": {},
     "output_type": "display_data"
    }
   ],
   "source": [
    "plt.hist(results, density=True, bins=bins_per_dim)"
   ]
  },
  {
   "cell_type": "code",
   "execution_count": null,
   "metadata": {},
   "outputs": [],
   "source": []
  }
 ],
 "metadata": {
  "kernelspec": {
   "display_name": "normflows",
   "language": "python",
   "name": "python3"
  },
  "language_info": {
   "codemirror_mode": {
    "name": "ipython",
    "version": 3
   },
   "file_extension": ".py",
   "mimetype": "text/x-python",
   "name": "python",
   "nbconvert_exporter": "python",
   "pygments_lexer": "ipython3",
   "version": "3.11.6"
  }
 },
 "nbformat": 4,
 "nbformat_minor": 2
}
