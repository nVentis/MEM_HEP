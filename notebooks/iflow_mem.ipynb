{
 "cells": [
  {
   "cell_type": "code",
   "execution_count": 1,
   "metadata": {},
   "outputs": [
    {
     "name": "stdout",
     "output_type": "stream",
     "text": [
      "/usr/lib64:/usr/lib:/root/ILCSoft/LCIO/build/lib64:/root/ILCSoft/Physsim/lib64:/root/miniforge3/envs/graphjet_pyg/lib:\n"
     ]
    }
   ],
   "source": [
    "from os import environ\n",
    "print(environ['LD_LIBRARY_PATH'])\n",
    "\n",
    "# Example for adding to LD_LIBRARY_PATH:\n",
    "# in CONDA_ENV_ROOT/etc/conda/activate.d/env_vars.sh\n",
    "\n",
    "# #!/bin/sh\n",
    "# export LD_LIBRARY_PATH=$LD_LIBRARY_PATH:/root/ILCSoft/LCIO/build/lib64:/root/ILCSoft/Physsim/lib64:/root/miniforge3/envs/graphjet_pyg/lib\n",
    "\n",
    "# ln -s "
   ]
  },
  {
   "cell_type": "code",
   "execution_count": 3,
   "metadata": {},
   "outputs": [],
   "source": [
    "from analysis.cffi.lib import mc_batch"
   ]
  },
  {
   "cell_type": "code",
   "execution_count": null,
   "metadata": {},
   "outputs": [],
   "source": []
  }
 ],
 "metadata": {
  "kernelspec": {
   "display_name": "graphjet_pyg",
   "language": "python",
   "name": "python3"
  },
  "language_info": {
   "codemirror_mode": {
    "name": "ipython",
    "version": 3
   },
   "file_extension": ".py",
   "mimetype": "text/x-python",
   "name": "python",
   "nbconvert_exporter": "python",
   "pygments_lexer": "ipython3",
   "version": "3.11.6"
  }
 },
 "nbformat": 4,
 "nbformat_minor": 2
}
