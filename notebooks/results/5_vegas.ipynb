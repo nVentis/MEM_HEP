{
 "cells": [
  {
   "cell_type": "code",
   "execution_count": 1,
   "metadata": {},
   "outputs": [
    {
     "name": "stderr",
     "output_type": "stream",
     "text": [
      "/nfs/dust/ilc/user/bliewert/miniconda3/envs/py311/lib/python3.11/site-packages/tqdm/auto.py:21: TqdmWarning: IProgress not found. Please update jupyter and ipywidgets. See https://ipywidgets.readthedocs.io/en/stable/user_install.html\n",
      "  from .autonotebook import tqdm as notebook_tqdm\n"
     ]
    }
   ],
   "source": [
    "from analysis.utils import module_reload\n",
    "module_reload('analysis')\n",
    "from analysis.import_data import import_true_reco\n",
    "from analysis.calc import get_kinematics\n",
    "from analysis.plot_matplotlib import plot_hist, export_figures\n",
    "import seaborn as sns\n",
    "import numpy as np"
   ]
  },
  {
   "cell_type": "markdown",
   "metadata": {},
   "source": [
    "Select events for VEGAS integration"
   ]
  },
  {
   "cell_type": "code",
   "execution_count": 2,
   "metadata": {},
   "outputs": [
    {
     "name": "stdout",
     "output_type": "stream",
     "text": [
      "Using cached file from /nfs/dust/ilc/user/bliewert/fullflow_v3/comparison/cache/comparison_reco_zhh_zzh.npy\n"
     ]
    }
   ],
   "source": [
    "df = import_true_reco()\n",
    "zhh = df[df['is_zhh'] == 1]\n",
    "zzh = df[df['is_zzh'] == 1]"
   ]
  },
  {
   "cell_type": "code",
   "execution_count": 3,
   "metadata": {},
   "outputs": [
    {
     "data": {
      "text/plain": [
       "<Axes: xlabel='error_code', ylabel='count'>"
      ]
     },
     "execution_count": 3,
     "metadata": {},
     "output_type": "execute_result"
    },
    {
     "data": {
      "image/png": "[encoded data removed]",
      "text/plain": [
       "<Figure size 640x480 with 1 Axes>"
      ]
     },
     "metadata": {},
     "output_type": "display_data"
    }
   ],
   "source": [
    "sns.countplot(df, x='error_code')"
   ]
  },
  {
   "cell_type": "code",
   "execution_count": null,
   "metadata": {},
   "outputs": [],
   "source": []
  },
  {
   "cell_type": "code",
   "execution_count": null,
   "metadata": {},
   "outputs": [],
   "source": []
  },
  {
   "cell_type": "code",
   "execution_count": 29,
   "metadata": {},
   "outputs": [],
   "source": [
    "n_select = 4096\n",
    "np.random.seed(42)\n",
    "idx_list = np.random.choice(event_idxes, n_select, replace=False)\n",
    "#for i in idx_list:\n",
    "#    print(i)\n",
    "    \n",
    "for i in idx_list:\n",
    "    get_kinematics(df, False, i)"
   ]
  },
  {
   "cell_type": "code",
   "execution_count": 49,
   "metadata": {},
   "outputs": [
    {
     "data": {
      "text/plain": [
       "[30.917086,\n",
       " 4.4786096,\n",
       " 8.365562,\n",
       " -29.424662,\n",
       " 104.72607,\n",
       " 10.005106,\n",
       " 86.80231,\n",
       " 57.726967,\n",
       " 74.48895,\n",
       " 22.33517,\n",
       " -11.79928,\n",
       " -38.885235,\n",
       " 74.48895,\n",
       " 22.33517,\n",
       " -11.79928,\n",
       " -38.885235,\n",
       " 74.48895,\n",
       " 22.33517,\n",
       " -11.79928,\n",
       " -38.885235,\n",
       " 74.48895,\n",
       " 22.33517,\n",
       " -11.79928,\n",
       " -38.885235]"
      ]
     },
     "execution_count": 49,
     "metadata": {},
     "output_type": "execute_result"
    }
   ],
   "source": [
    "get_kinematics(df, False, 0)"
   ]
  },
  {
   "cell_type": "code",
   "execution_count": 53,
   "metadata": {},
   "outputs": [
    {
     "data": {
      "text/plain": [
       "30.917086"
      ]
     },
     "execution_count": 53,
     "metadata": {},
     "output_type": "execute_result"
    }
   ],
   "source": [
    "df['lep1_e'][0]"
   ]
  },
  {
   "cell_type": "code",
   "execution_count": 35,
   "metadata": {},
   "outputs": [
    {
     "data": {
      "text/html": [
       "<div>\n",
       "<style scoped>\n",
       "    .dataframe tbody tr th:only-of-type {\n",
       "        vertical-align: middle;\n",
       "    }\n",
       "\n",
       "    .dataframe tbody tr th {\n",
       "        vertical-align: top;\n",
       "    }\n",
       "\n",
       "    .dataframe thead th {\n",
       "        text-align: right;\n",
       "    }\n",
       "</style>\n",
       "<table border=\"1\" class=\"dataframe\">\n",
       "  <thead>\n",
       "    <tr style=\"text-align: right;\">\n",
       "      <th></th>\n",
       "      <th>run</th>\n",
       "      <th>event</th>\n",
       "      <th>error_code</th>\n",
       "      <th>is_zhh</th>\n",
       "      <th>is_zzh</th>\n",
       "      <th>passed_preselection</th>\n",
       "      <th>true_h1_decay_pdg</th>\n",
       "      <th>true_h2_decay_pdg</th>\n",
       "      <th>true_z2_decay_pdg</th>\n",
       "      <th>misclustering_region</th>\n",
       "      <th>...</th>\n",
       "      <th>zzh_mzzh</th>\n",
       "      <th>zzh_mh</th>\n",
       "      <th>zzh_phi</th>\n",
       "      <th>zzh_phiz</th>\n",
       "      <th>zzh_phiz1f</th>\n",
       "      <th>zzh_phiz2f</th>\n",
       "      <th>zzh_costheta</th>\n",
       "      <th>zzh_costhetaz</th>\n",
       "      <th>zzh_costhetaz1f</th>\n",
       "      <th>zzh_costhetaz2f</th>\n",
       "    </tr>\n",
       "  </thead>\n",
       "  <tbody>\n",
       "    <tr>\n",
       "      <th>0</th>\n",
       "      <td>403001</td>\n",
       "      <td>1</td>\n",
       "      <td>0</td>\n",
       "      <td>1</td>\n",
       "      <td>0</td>\n",
       "      <td>1</td>\n",
       "      <td>5</td>\n",
       "      <td>5</td>\n",
       "      <td>0</td>\n",
       "      <td>0</td>\n",
       "      <td>...</td>\n",
       "      <td>446.913208</td>\n",
       "      <td>121.769585</td>\n",
       "      <td>-0.576589</td>\n",
       "      <td>-0.289492</td>\n",
       "      <td>1.468112</td>\n",
       "      <td>-0.552550</td>\n",
       "      <td>0.880079</td>\n",
       "      <td>-0.310271</td>\n",
       "      <td>-0.735577</td>\n",
       "      <td>0.686638</td>\n",
       "    </tr>\n",
       "    <tr>\n",
       "      <th>1</th>\n",
       "      <td>403001</td>\n",
       "      <td>3</td>\n",
       "      <td>0</td>\n",
       "      <td>1</td>\n",
       "      <td>0</td>\n",
       "      <td>1</td>\n",
       "      <td>5</td>\n",
       "      <td>5</td>\n",
       "      <td>0</td>\n",
       "      <td>2</td>\n",
       "      <td>...</td>\n",
       "      <td>483.704987</td>\n",
       "      <td>107.150192</td>\n",
       "      <td>2.966816</td>\n",
       "      <td>-1.651559</td>\n",
       "      <td>0.031786</td>\n",
       "      <td>-1.859455</td>\n",
       "      <td>0.192798</td>\n",
       "      <td>-0.097601</td>\n",
       "      <td>-0.204610</td>\n",
       "      <td>0.011489</td>\n",
       "    </tr>\n",
       "    <tr>\n",
       "      <th>2</th>\n",
       "      <td>403001</td>\n",
       "      <td>5</td>\n",
       "      <td>0</td>\n",
       "      <td>1</td>\n",
       "      <td>0</td>\n",
       "      <td>1</td>\n",
       "      <td>5</td>\n",
       "      <td>5</td>\n",
       "      <td>0</td>\n",
       "      <td>5</td>\n",
       "      <td>...</td>\n",
       "      <td>438.497864</td>\n",
       "      <td>112.538300</td>\n",
       "      <td>1.117352</td>\n",
       "      <td>1.876568</td>\n",
       "      <td>1.775353</td>\n",
       "      <td>2.187491</td>\n",
       "      <td>-0.349929</td>\n",
       "      <td>-0.294232</td>\n",
       "      <td>0.238251</td>\n",
       "      <td>0.752892</td>\n",
       "    </tr>\n",
       "    <tr>\n",
       "      <th>3</th>\n",
       "      <td>403001</td>\n",
       "      <td>9</td>\n",
       "      <td>0</td>\n",
       "      <td>1</td>\n",
       "      <td>0</td>\n",
       "      <td>1</td>\n",
       "      <td>5</td>\n",
       "      <td>5</td>\n",
       "      <td>0</td>\n",
       "      <td>0</td>\n",
       "      <td>...</td>\n",
       "      <td>486.227692</td>\n",
       "      <td>122.407997</td>\n",
       "      <td>-1.346895</td>\n",
       "      <td>-1.257838</td>\n",
       "      <td>2.389979</td>\n",
       "      <td>-2.471164</td>\n",
       "      <td>0.078725</td>\n",
       "      <td>-0.986115</td>\n",
       "      <td>-0.574044</td>\n",
       "      <td>0.969895</td>\n",
       "    </tr>\n",
       "    <tr>\n",
       "      <th>4</th>\n",
       "      <td>403001</td>\n",
       "      <td>12</td>\n",
       "      <td>0</td>\n",
       "      <td>1</td>\n",
       "      <td>0</td>\n",
       "      <td>1</td>\n",
       "      <td>5</td>\n",
       "      <td>5</td>\n",
       "      <td>0</td>\n",
       "      <td>5</td>\n",
       "      <td>...</td>\n",
       "      <td>495.382538</td>\n",
       "      <td>101.611015</td>\n",
       "      <td>2.014904</td>\n",
       "      <td>3.082627</td>\n",
       "      <td>1.081265</td>\n",
       "      <td>-2.056169</td>\n",
       "      <td>0.642513</td>\n",
       "      <td>-0.116158</td>\n",
       "      <td>-0.652024</td>\n",
       "      <td>0.705430</td>\n",
       "    </tr>\n",
       "  </tbody>\n",
       "</table>\n",
       "<p>5 rows × 110 columns</p>\n",
       "</div>"
      ],
      "text/plain": [
       "      run  event  error_code  is_zhh  is_zzh  passed_preselection  \\\n",
       "0  403001      1           0       1       0                    1   \n",
       "1  403001      3           0       1       0                    1   \n",
       "2  403001      5           0       1       0                    1   \n",
       "3  403001      9           0       1       0                    1   \n",
       "4  403001     12           0       1       0                    1   \n",
       "\n",
       "   true_h1_decay_pdg  true_h2_decay_pdg  true_z2_decay_pdg  \\\n",
       "0                  5                  5                  0   \n",
       "1                  5                  5                  0   \n",
       "2                  5                  5                  0   \n",
       "3                  5                  5                  0   \n",
       "4                  5                  5                  0   \n",
       "\n",
       "   misclustering_region  ...    zzh_mzzh      zzh_mh   zzh_phi  zzh_phiz  \\\n",
       "0                     0  ...  446.913208  121.769585 -0.576589 -0.289492   \n",
       "1                     2  ...  483.704987  107.150192  2.966816 -1.651559   \n",
       "2                     5  ...  438.497864  112.538300  1.117352  1.876568   \n",
       "3                     0  ...  486.227692  122.407997 -1.346895 -1.257838   \n",
       "4                     5  ...  495.382538  101.611015  2.014904  3.082627   \n",
       "\n",
       "   zzh_phiz1f  zzh_phiz2f  zzh_costheta  zzh_costhetaz  zzh_costhetaz1f  \\\n",
       "0    1.468112   -0.552550      0.880079      -0.310271        -0.735577   \n",
       "1    0.031786   -1.859455      0.192798      -0.097601        -0.204610   \n",
       "2    1.775353    2.187491     -0.349929      -0.294232         0.238251   \n",
       "3    2.389979   -2.471164      0.078725      -0.986115        -0.574044   \n",
       "4    1.081265   -2.056169      0.642513      -0.116158        -0.652024   \n",
       "\n",
       "   zzh_costhetaz2f  \n",
       "0         0.686638  \n",
       "1         0.011489  \n",
       "2         0.752892  \n",
       "3         0.969895  \n",
       "4         0.705430  \n",
       "\n",
       "[5 rows x 110 columns]"
      ]
     },
     "execution_count": 35,
     "metadata": {},
     "output_type": "execute_result"
    }
   ],
   "source": [
    "df[:5]"
   ]
  },
  {
   "cell_type": "code",
   "execution_count": 36,
   "metadata": {},
   "outputs": [
    {
     "data": {
      "text/plain": [
       "Int64Index([0, 1, 2, 3, 4], dtype='int64')"
      ]
     },
     "execution_count": 36,
     "metadata": {},
     "output_type": "execute_result"
    }
   ],
   "source": [
    "event_idxes[:5]"
   ]
  },
  {
   "cell_type": "code",
   "execution_count": 41,
   "metadata": {},
   "outputs": [
    {
     "data": {
      "text/plain": [
       "5.0"
      ]
     },
     "execution_count": 41,
     "metadata": {},
     "output_type": "execute_result"
    }
   ],
   "source": [
    "df.iloc[2]['event']"
   ]
  },
  {
   "cell_type": "code",
   "execution_count": 42,
   "metadata": {},
   "outputs": [
    {
     "data": {
      "text/plain": [
       "5"
      ]
     },
     "execution_count": 42,
     "metadata": {},
     "output_type": "execute_result"
    }
   ],
   "source": [
    "df['event'][2]"
   ]
  },
  {
   "cell_type": "code",
   "execution_count": null,
   "metadata": {},
   "outputs": [],
   "source": []
  }
 ],
 "metadata": {
  "kernelspec": {
   "display_name": "py311",
   "language": "python",
   "name": "python3"
  },
  "language_info": {
   "codemirror_mode": {
    "name": "ipython",
    "version": 3
   },
   "file_extension": ".py",
   "mimetype": "text/x-python",
   "name": "python",
   "nbconvert_exporter": "python",
   "pygments_lexer": "ipython3",
   "version": "3.11.4"
  }
 },
 "nbformat": 4,
 "nbformat_minor": 2
}
