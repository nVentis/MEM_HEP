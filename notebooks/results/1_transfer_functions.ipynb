{
 "cells": [
  {
   "cell_type": "code",
   "execution_count": 1,
   "metadata": {},
   "outputs": [
    {
     "name": "stdout",
     "output_type": "stream",
     "text": [
      "/nfs/dust/ilc/user/bliewert/.mambaforge/envs/py311/bin:/nfs/dust/ilc/user/bliewert/.vscode-server/bin/863d2581ecda6849923a2118d93a088b0745d9d6/bin/remote-cli:/nfs/dust/ilc/user/bliewert/.mambaforge/envs/py311/bin:/nfs/dust/ilc/user/bliewert/.mambaforge/condabin:/usr/lib/heimdal/bin:/afs/desy.de/common/passwd:/usr/local/bin:/usr/bin:/afs/desy.de/user/b/bliewert/bin:/usr/local/sbin:/usr/sbin:/opt/puppetlabs/bin\n",
      "/afs/desy.de/user/b/bliewert/public/ILCSoft/LCIO/lib64:/afs/desy.de/user/b/bliewert/public/ILCSoft/Physsim/lib64:/afs/desy.de/user/b/bliewert/public/MarlinWorkdirs/MEM_HEP/analysis/cffi/mg5/mg5/lib\n"
     ]
    },
    {
     "name": "stderr",
     "output_type": "stream",
     "text": [
      "/nfs/dust/ilc/user/bliewert/.mambaforge/envs/py311/lib/python3.11/site-packages/tqdm/auto.py:21: TqdmWarning: IProgress not found. Please update jupyter and ipywidgets. See https://ipywidgets.readthedocs.io/en/stable/user_install.html\n",
      "  from .autonotebook import tqdm as notebook_tqdm\n"
     ]
    }
   ],
   "source": [
    "import numpy as np\n",
    "import matplotlib.pyplot as plt\n",
    "import seaborn as sns\n",
    "import pandas as pd\n",
    "from sys import platform\n",
    "is_linux = (platform == \"linux\" or platform == \"linux2\")\n",
    "\n",
    "from glob import glob\n",
    "from os import listdir, mkdir, getcwd, remove\n",
    "from os.path import isfile, join, basename, isdir\n",
    "\n",
    "from analysis.split_event_tree import split_event_tree,ttype_column\n",
    "from analysis.calc import calc_nll_llr_dtf_delta, get_kinematics, filter_for_tf\n",
    "from analysis.plot_matplotlib import plot_hist\n",
    "\n",
    "import os; print(os.environ['PATH']); print(os.environ['LD_LIBRARY_PATH'])\n",
    "#from analysis.cffi.Physsim.CalculateME import lib as physsim\n",
    "from analysis.cffi.mg5.lib import calc_zhh, calc_zzh\n",
    "from tqdm.auto import tqdm"
   ]
  },
  {
   "cell_type": "code",
   "execution_count": null,
   "metadata": {},
   "outputs": [],
   "source": [
    "from analysis.save_data import pd_to_np\n",
    "from analysis.import_data import import_data,filter_data,combine_columns\n",
    "\n",
    "mcp_raw = import_data(\"/nfs/dust/ilc/user/bliewert/fullflow_v3/comparison/npy/mcparticle/compare_mcparticle.npy\")\n",
    "reco_raw = import_data(\"/nfs/dust/ilc/user/bliewert/fullflow_v3/comparison/npy/reco/compare_reco.npy\")\n",
    "\n",
    "recalculate = False\n",
    "\n",
    "if recalculate:\n",
    "    #tjmr_raw = import_data(\"/nfs/dust/ilc/user/bliewert/fullflow_v3/comparison/npy/truejet_matchingreco/compare_truejet_matchingreco.npy\")\n",
    "    #tjt_raw = import_data(\"/nfs/dust/ilc/user/bliewert/fullflow_v3/comparison/npy/truejet_true/compare_truejet_true.npy\")\n",
    "    #tjs_raw = import_data(\"/nfs/dust/ilc/user/bliewert/fullflow_v3/comparison/npy/truejet_seen/compare_truejet_seen.npy\")\n",
    "\n",
    "    reco = filter_for_tf(reco_raw)\n",
    "    mcp = filter_for_tf(mcp_raw, jet=False, lepton=False)\n",
    "        \n",
    "    for run_type in ['reco', 'mcparticle']:\n",
    "        data = mcp if run_type == 'mcparticle' else reco\n",
    "        \n",
    "        kinematics = []\n",
    "        pbar = tqdm(range(len(data)))\n",
    "        for i in pbar:\n",
    "            pbar.set_description(f\"{run_type}: Getting kinematics for event {i}\")\n",
    "            for value in get_kinematics(data, run_type == 'mcparticle', i): \n",
    "                kinematics.append(value)\n",
    "            \n",
    "        mg5_zhh = calc_zhh(kinematics)\n",
    "        mg5_zzh = calc_zzh(kinematics)\n",
    "\n",
    "        data[\"zhh_mg5\"] = np.array(mg5_zhh)\n",
    "        data[\"zzh_mg5\"] = np.array(mg5_zzh)\n",
    "        data[\"llr_mg5\"] = np.log(data[\"zhh_mg5\"]/data[\"zzh_mg5\"])\n",
    "\n",
    "        np.save(f\"/nfs/dust/ilc/user/bliewert/fullflow_v3/comparison/npy/{run_type}/compare_{run_type}_with_mg5.npy\", pd_to_np(data))\n",
    "        \n",
    "else:\n",
    "    mcp  = pd.DataFrame(np.load(\"/nfs/dust/ilc/user/bliewert/fullflow_v3/comparison/npy/mcparticle/compare_mcparticle_with_mg5.npy\", allow_pickle=True))\n",
    "    reco = pd.DataFrame(np.load(\"/nfs/dust/ilc/user/bliewert/fullflow_v3/comparison/npy/reco/compare_reco_with_mg5.npy\", allow_pickle=True))\n",
    "    \n",
    "from analysis.plot_routines import plot_llr\n",
    "from analysis.calc import calc_nll_llr_dtf_delta\n",
    "\n",
    "mcp = calc_nll_llr_dtf_delta(filter_data(mcp))\n",
    "reco = calc_nll_llr_dtf_delta(filter_data(reco))"
   ]
  },
  {
   "cell_type": "code",
   "execution_count": null,
   "metadata": {},
   "outputs": [],
   "source": []
  },
  {
   "cell_type": "code",
   "execution_count": null,
   "metadata": {},
   "outputs": [],
   "source": []
  }
 ],
 "metadata": {
  "kernelspec": {
   "display_name": "py311",
   "language": "python",
   "name": "python3"
  },
  "language_info": {
   "codemirror_mode": {
    "name": "ipython",
    "version": 3
   },
   "file_extension": ".py",
   "mimetype": "text/x-python",
   "name": "python",
   "nbconvert_exporter": "python",
   "pygments_lexer": "ipython3",
   "version": "3.11.4"
  }
 },
 "nbformat": 4,
 "nbformat_minor": 2
}
