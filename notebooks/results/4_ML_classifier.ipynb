{
 "cells": [
  {
   "cell_type": "code",
   "execution_count": 1,
   "metadata": {},
   "outputs": [
    {
     "name": "stderr",
     "output_type": "stream",
     "text": [
      "/nfs/dust/ilc/user/bliewert/.mambaforge/envs/py311/lib/python3.11/site-packages/tqdm/auto.py:21: TqdmWarning: IProgress not found. Please update jupyter and ipywidgets. See https://ipywidgets.readthedocs.io/en/stable/user_install.html\n",
      "  from .autonotebook import tqdm as notebook_tqdm\n"
     ]
    }
   ],
   "source": [
    "import torch\n",
    "import numpy as np\n",
    "import pandas as pandas\n",
    "import matplotlib.pyplot as plt\n",
    "import seaborn as sns\n",
    "from analysis.import_data import import_true_reco"
   ]
  },
  {
   "cell_type": "code",
   "execution_count": 11,
   "metadata": {},
   "outputs": [
    {
     "name": "stdout",
     "output_type": "stream",
     "text": [
      "Model: DeepSet(\n",
      "  (element_wise): Sequential(\n",
      "    (0): Linear(in_features=4, out_features=32, bias=True)\n",
      "    (1): Tanh()\n",
      "    (2): Linear(in_features=32, out_features=32, bias=True)\n",
      "    (3): Tanh()\n",
      "    (4): Linear(in_features=32, out_features=4, bias=True)\n",
      "  )\n",
      "  (global_net): Sequential(\n",
      "    (0): Linear(in_features=4, out_features=32, bias=True)\n",
      "    (1): Tanh()\n",
      "    (2): Linear(in_features=32, out_features=1, bias=True)\n",
      "    (3): Sigmoid()\n",
      "  )\n",
      ")\n",
      "Parameters: 1541\n"
     ]
    }
   ],
   "source": [
    "class DeepSet(torch.nn.Module):\n",
    "    def __init__(self):\n",
    "        super().__init__()\n",
    "        self.element_wise = torch.nn.Sequential(\n",
    "            torch.nn.Linear(4,32),\n",
    "            torch.nn.Tanh(),\n",
    "            torch.nn.Linear(32,32),\n",
    "            torch.nn.Tanh(),\n",
    "            torch.nn.Linear(32,4),\n",
    "        )\n",
    "        self.global_net = torch.nn.Sequential(\n",
    "            torch.nn.Linear(4,32),\n",
    "            torch.nn.Tanh(),\n",
    "            torch.nn.Linear(32,1),\n",
    "            torch.nn.Sigmoid()\n",
    "        )\n",
    "        \n",
    "        self.print_model_summary()\n",
    "        \n",
    "    def forward(self, X):\n",
    "        inp = X.reshape(-1,4)\n",
    "        H = self.element_wise(inp)\n",
    "        H = H.reshape(-1,10,4)\n",
    "        pooled = H.sum(axis=1)\n",
    "        out = self.global_net(pooled)\n",
    "        return out\n",
    "    \n",
    "    def print_model_summary(self):\n",
    "        print(\n",
    "            'Model: %s\\nParameters: %i' %\n",
    "            (self, sum(p.numel() for p in self.parameters()))\n",
    "        )\n",
    "        \n",
    "a = DeepSet()"
   ]
  },
  {
   "cell_type": "code",
   "execution_count": null,
   "metadata": {},
   "outputs": [],
   "source": []
  }
 ],
 "metadata": {
  "kernelspec": {
   "display_name": "py311",
   "language": "python",
   "name": "python3"
  },
  "language_info": {
   "codemirror_mode": {
    "name": "ipython",
    "version": 3
   },
   "file_extension": ".py",
   "mimetype": "text/x-python",
   "name": "python",
   "nbconvert_exporter": "python",
   "pygments_lexer": "ipython3",
   "version": "3.11.4"
  }
 },
 "nbformat": 4,
 "nbformat_minor": 2
}
