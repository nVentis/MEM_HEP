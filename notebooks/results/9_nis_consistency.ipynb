{
 "cells": [
  {
   "cell_type": "code",
   "execution_count": null,
   "metadata": {},
   "outputs": [],
   "source": [
    "import numpy as np\n",
    "import pandas as pd\n",
    "import matplotlib.pyplot as plt\n",
    "import seaborn as sns\n",
    "import math\n",
    "import os\n",
    "import os.path as osp\n",
    "from tqdm.auto import tqdm\n",
    "from os.path import dirname, join\n",
    "from glob import glob\n",
    "from analysis.plot_matplotlib import plot_hist, export_figures\n",
    "#module_reload('analysis')\n",
    "from analysis.mem_ana import load_results, parse_line_to_float, finalize_mems\n",
    "from analysis.mc.tools import variance_weighted_result\n",
    "from analysis.utils import module_reload"
   ]
  }
 ],
 "metadata": {
  "language_info": {
   "name": "python"
  }
 },
 "nbformat": 4,
 "nbformat_minor": 2
}
